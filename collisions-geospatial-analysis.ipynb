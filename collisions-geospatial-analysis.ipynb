{
 "cells": [
  {
   "cell_type": "code",
   "execution_count": 1,
   "id": "58d2a554",
   "metadata": {
    "_cell_guid": "b1076dfc-b9ad-4769-8c92-a6c4dae69d19",
    "_uuid": "8f2839f25d086af736a60e9eeb907d3b93b6e0e5",
    "execution": {
     "iopub.execute_input": "2024-05-02T10:43:04.885006Z",
     "iopub.status.busy": "2024-05-02T10:43:04.884590Z",
     "iopub.status.idle": "2024-05-02T10:43:06.732128Z",
     "shell.execute_reply": "2024-05-02T10:43:06.730739Z"
    },
    "papermill": {
     "duration": 1.85972,
     "end_time": "2024-05-02T10:43:06.735636",
     "exception": false,
     "start_time": "2024-05-02T10:43:04.875916",
     "status": "completed"
    },
    "tags": []
   },
   "outputs": [],
   "source": [
    "import math\n",
    "import geopandas as gpd\n",
    "import pandas as pd\n",
    "from shapely.geometry import MultiPolygon\n",
    "\n",
    "import folium\n",
    "from folium import Choropleth, Marker\n",
    "from folium.plugins import HeatMap, MarkerCluster"
   ]
  },
  {
   "cell_type": "code",
   "execution_count": 2,
   "id": "07d2f9e2",
   "metadata": {
    "execution": {
     "iopub.execute_input": "2024-05-02T10:43:06.750068Z",
     "iopub.status.busy": "2024-05-02T10:43:06.749504Z",
     "iopub.status.idle": "2024-05-02T10:43:06.755410Z",
     "shell.execute_reply": "2024-05-02T10:43:06.753725Z"
    },
    "papermill": {
     "duration": 0.015402,
     "end_time": "2024-05-02T10:43:06.757923",
     "exception": false,
     "start_time": "2024-05-02T10:43:06.742521",
     "status": "completed"
    },
    "tags": []
   },
   "outputs": [],
   "source": [
    "def embed_map(m, file_name):\n",
    "    from IPython.display import IFrame\n",
    "    m.save(file_name)\n",
    "    return IFrame(file_name, width='100%', height='500px')"
   ]
  },
  {
   "cell_type": "code",
   "execution_count": 3,
   "id": "b732a760",
   "metadata": {
    "execution": {
     "iopub.execute_input": "2024-05-02T10:43:06.772090Z",
     "iopub.status.busy": "2024-05-02T10:43:06.770951Z",
     "iopub.status.idle": "2024-05-02T10:45:40.505869Z",
     "shell.execute_reply": "2024-05-02T10:45:40.504628Z"
    },
    "papermill": {
     "duration": 153.753751,
     "end_time": "2024-05-02T10:45:40.517516",
     "exception": false,
     "start_time": "2024-05-02T10:43:06.763765",
     "status": "completed"
    },
    "tags": []
   },
   "outputs": [
    {
     "data": {
      "text/html": [
       "<div>\n",
       "<style scoped>\n",
       "    .dataframe tbody tr th:only-of-type {\n",
       "        vertical-align: middle;\n",
       "    }\n",
       "\n",
       "    .dataframe tbody tr th {\n",
       "        vertical-align: top;\n",
       "    }\n",
       "\n",
       "    .dataframe thead th {\n",
       "        text-align: right;\n",
       "    }\n",
       "</style>\n",
       "<table border=\"1\" class=\"dataframe\">\n",
       "  <thead>\n",
       "    <tr style=\"text-align: right;\">\n",
       "      <th></th>\n",
       "      <th>DATE</th>\n",
       "      <th>TIME</th>\n",
       "      <th>BOROUGH</th>\n",
       "      <th>ZIP CODE</th>\n",
       "      <th>LATITUDE</th>\n",
       "      <th>LONGITUDE</th>\n",
       "      <th>LOCATION</th>\n",
       "      <th>ON STREET</th>\n",
       "      <th>CROSS STRE</th>\n",
       "      <th>OFF STREET</th>\n",
       "      <th>...</th>\n",
       "      <th>CONTRIBU_2</th>\n",
       "      <th>CONTRIBU_3</th>\n",
       "      <th>CONTRIBU_4</th>\n",
       "      <th>UNIQUE KEY</th>\n",
       "      <th>VEHICLE TY</th>\n",
       "      <th>VEHICLE _1</th>\n",
       "      <th>VEHICLE _2</th>\n",
       "      <th>VEHICLE _3</th>\n",
       "      <th>VEHICLE _4</th>\n",
       "      <th>geometry</th>\n",
       "    </tr>\n",
       "  </thead>\n",
       "  <tbody>\n",
       "    <tr>\n",
       "      <th>0</th>\n",
       "      <td>07/30/2019</td>\n",
       "      <td>0:00</td>\n",
       "      <td>BRONX</td>\n",
       "      <td>10464</td>\n",
       "      <td>40.841100</td>\n",
       "      <td>-73.784960</td>\n",
       "      <td>(40.8411, -73.78496)</td>\n",
       "      <td>None</td>\n",
       "      <td>None</td>\n",
       "      <td>121       PILOT STREET</td>\n",
       "      <td>...</td>\n",
       "      <td>Unspecified</td>\n",
       "      <td>None</td>\n",
       "      <td>None</td>\n",
       "      <td>4180045</td>\n",
       "      <td>Sedan</td>\n",
       "      <td>Station Wagon/Sport Utility Vehicle</td>\n",
       "      <td>Station Wagon/Sport Utility Vehicle</td>\n",
       "      <td>None</td>\n",
       "      <td>None</td>\n",
       "      <td>POINT (1043750.211 245785.815)</td>\n",
       "    </tr>\n",
       "    <tr>\n",
       "      <th>1</th>\n",
       "      <td>07/30/2019</td>\n",
       "      <td>0:10</td>\n",
       "      <td>QUEENS</td>\n",
       "      <td>11423</td>\n",
       "      <td>40.710827</td>\n",
       "      <td>-73.770660</td>\n",
       "      <td>(40.710827, -73.77066)</td>\n",
       "      <td>JAMAICA AVENUE</td>\n",
       "      <td>188 STREET</td>\n",
       "      <td>None</td>\n",
       "      <td>...</td>\n",
       "      <td>None</td>\n",
       "      <td>None</td>\n",
       "      <td>None</td>\n",
       "      <td>4180007</td>\n",
       "      <td>Sedan</td>\n",
       "      <td>Sedan</td>\n",
       "      <td>None</td>\n",
       "      <td>None</td>\n",
       "      <td>None</td>\n",
       "      <td>POINT (1047831.185 198333.171)</td>\n",
       "    </tr>\n",
       "    <tr>\n",
       "      <th>2</th>\n",
       "      <td>07/30/2019</td>\n",
       "      <td>0:25</td>\n",
       "      <td>None</td>\n",
       "      <td>None</td>\n",
       "      <td>40.880318</td>\n",
       "      <td>-73.841286</td>\n",
       "      <td>(40.880318, -73.841286)</td>\n",
       "      <td>BOSTON ROAD</td>\n",
       "      <td>None</td>\n",
       "      <td>None</td>\n",
       "      <td>...</td>\n",
       "      <td>None</td>\n",
       "      <td>None</td>\n",
       "      <td>None</td>\n",
       "      <td>4179575</td>\n",
       "      <td>Sedan</td>\n",
       "      <td>Station Wagon/Sport Utility Vehicle</td>\n",
       "      <td>None</td>\n",
       "      <td>None</td>\n",
       "      <td>None</td>\n",
       "      <td>POINT (1028139.293 260041.178)</td>\n",
       "    </tr>\n",
       "    <tr>\n",
       "      <th>3</th>\n",
       "      <td>07/30/2019</td>\n",
       "      <td>0:35</td>\n",
       "      <td>MANHATTAN</td>\n",
       "      <td>10036</td>\n",
       "      <td>40.756744</td>\n",
       "      <td>-73.984590</td>\n",
       "      <td>(40.756744, -73.98459)</td>\n",
       "      <td>None</td>\n",
       "      <td>None</td>\n",
       "      <td>155       WEST 44 STREET</td>\n",
       "      <td>...</td>\n",
       "      <td>None</td>\n",
       "      <td>None</td>\n",
       "      <td>None</td>\n",
       "      <td>4179544</td>\n",
       "      <td>Box Truck</td>\n",
       "      <td>Station Wagon/Sport Utility Vehicle</td>\n",
       "      <td>None</td>\n",
       "      <td>None</td>\n",
       "      <td>None</td>\n",
       "      <td>POINT (988519.261 214979.320)</td>\n",
       "    </tr>\n",
       "    <tr>\n",
       "      <th>4</th>\n",
       "      <td>07/30/2019</td>\n",
       "      <td>10:00</td>\n",
       "      <td>BROOKLYN</td>\n",
       "      <td>11223</td>\n",
       "      <td>40.600090</td>\n",
       "      <td>-73.965910</td>\n",
       "      <td>(40.60009, -73.96591)</td>\n",
       "      <td>AVENUE T</td>\n",
       "      <td>OCEAN PARKWAY</td>\n",
       "      <td>None</td>\n",
       "      <td>...</td>\n",
       "      <td>None</td>\n",
       "      <td>None</td>\n",
       "      <td>None</td>\n",
       "      <td>4180660</td>\n",
       "      <td>Station Wagon/Sport Utility Vehicle</td>\n",
       "      <td>Bike</td>\n",
       "      <td>None</td>\n",
       "      <td>None</td>\n",
       "      <td>None</td>\n",
       "      <td>POINT (993716.669 157907.212)</td>\n",
       "    </tr>\n",
       "  </tbody>\n",
       "</table>\n",
       "<p>5 rows × 30 columns</p>\n",
       "</div>"
      ],
      "text/plain": [
       "         DATE   TIME    BOROUGH ZIP CODE   LATITUDE  LONGITUDE  \\\n",
       "0  07/30/2019   0:00      BRONX    10464  40.841100 -73.784960   \n",
       "1  07/30/2019   0:10     QUEENS    11423  40.710827 -73.770660   \n",
       "2  07/30/2019   0:25       None     None  40.880318 -73.841286   \n",
       "3  07/30/2019   0:35  MANHATTAN    10036  40.756744 -73.984590   \n",
       "4  07/30/2019  10:00   BROOKLYN    11223  40.600090 -73.965910   \n",
       "\n",
       "                  LOCATION       ON STREET     CROSS STRE  \\\n",
       "0     (40.8411, -73.78496)            None           None   \n",
       "1   (40.710827, -73.77066)  JAMAICA AVENUE     188 STREET   \n",
       "2  (40.880318, -73.841286)     BOSTON ROAD           None   \n",
       "3   (40.756744, -73.98459)            None           None   \n",
       "4    (40.60009, -73.96591)        AVENUE T  OCEAN PARKWAY   \n",
       "\n",
       "                 OFF STREET  ...   CONTRIBU_2  CONTRIBU_3  CONTRIBU_4  \\\n",
       "0    121       PILOT STREET  ...  Unspecified        None        None   \n",
       "1                      None  ...         None        None        None   \n",
       "2                      None  ...         None        None        None   \n",
       "3  155       WEST 44 STREET  ...         None        None        None   \n",
       "4                      None  ...         None        None        None   \n",
       "\n",
       "   UNIQUE KEY                           VEHICLE TY  \\\n",
       "0     4180045                                Sedan   \n",
       "1     4180007                                Sedan   \n",
       "2     4179575                                Sedan   \n",
       "3     4179544                            Box Truck   \n",
       "4     4180660  Station Wagon/Sport Utility Vehicle   \n",
       "\n",
       "                            VEHICLE _1                           VEHICLE _2  \\\n",
       "0  Station Wagon/Sport Utility Vehicle  Station Wagon/Sport Utility Vehicle   \n",
       "1                                Sedan                                 None   \n",
       "2  Station Wagon/Sport Utility Vehicle                                 None   \n",
       "3  Station Wagon/Sport Utility Vehicle                                 None   \n",
       "4                                 Bike                                 None   \n",
       "\n",
       "   VEHICLE _3 VEHICLE _4                        geometry  \n",
       "0        None       None  POINT (1043750.211 245785.815)  \n",
       "1        None       None  POINT (1047831.185 198333.171)  \n",
       "2        None       None  POINT (1028139.293 260041.178)  \n",
       "3        None       None   POINT (988519.261 214979.320)  \n",
       "4        None       None   POINT (993716.669 157907.212)  \n",
       "\n",
       "[5 rows x 30 columns]"
      ]
     },
     "execution_count": 3,
     "metadata": {},
     "output_type": "execute_result"
    }
   ],
   "source": [
    "collisions = gpd.read_file(\"../input/geospatial-learn-course-data/NYPD_Motor_Vehicle_Collisions/NYPD_Motor_Vehicle_Collisions/NYPD_Motor_Vehicle_Collisions.shp\")\n",
    "collisions.head()"
   ]
  },
  {
   "cell_type": "markdown",
   "id": "e1d50d41",
   "metadata": {
    "papermill": {
     "duration": 0.005556,
     "end_time": "2024-05-02T10:45:40.528823",
     "exception": false,
     "start_time": "2024-05-02T10:45:40.523267",
     "status": "completed"
    },
    "tags": []
   },
   "source": [
    "# Visualize aHeatmap to show collision data with a radius"
   ]
  },
  {
   "cell_type": "code",
   "execution_count": 4,
   "id": "4751d948",
   "metadata": {
    "execution": {
     "iopub.execute_input": "2024-05-02T10:45:40.543295Z",
     "iopub.status.busy": "2024-05-02T10:45:40.542557Z",
     "iopub.status.idle": "2024-05-02T10:45:43.851353Z",
     "shell.execute_reply": "2024-05-02T10:45:43.850387Z"
    },
    "papermill": {
     "duration": 3.31907,
     "end_time": "2024-05-02T10:45:43.854229",
     "exception": false,
     "start_time": "2024-05-02T10:45:40.535159",
     "status": "completed"
    },
    "tags": []
   },
   "outputs": [
    {
     "data": {
      "text/html": [
       "\n",
       "        <iframe\n",
       "            width=\"100%\"\n",
       "            height=\"500px\"\n",
       "            src=\"q_1.html\"\n",
       "            frameborder=\"0\"\n",
       "            allowfullscreen\n",
       "            \n",
       "        ></iframe>\n",
       "        "
      ],
      "text/plain": [
       "<IPython.lib.display.IFrame at 0x7c34d21cf070>"
      ]
     },
     "execution_count": 4,
     "metadata": {},
     "output_type": "execute_result"
    }
   ],
   "source": [
    "m_1 = folium.Map(location=[40.7, -74], zoom_start=11) \n",
    "\n",
    "HeatMap(data=collisions[['LATITUDE', 'LONGITUDE']], radius=9).add_to(m_1)\n",
    "\n",
    "# Show the map\n",
    "embed_map(m_1, \"q_1.html\")"
   ]
  },
  {
   "cell_type": "markdown",
   "id": "0c9ac545",
   "metadata": {
    "papermill": {
     "duration": 0.006091,
     "end_time": "2024-05-02T10:45:43.866781",
     "exception": false,
     "start_time": "2024-05-02T10:45:43.860690",
     "status": "completed"
    },
    "tags": []
   },
   "source": [
    "# Understand hospital coverage."
   ]
  },
  {
   "cell_type": "code",
   "execution_count": 5,
   "id": "ed0c65cd",
   "metadata": {
    "execution": {
     "iopub.execute_input": "2024-05-02T10:45:43.881134Z",
     "iopub.status.busy": "2024-05-02T10:45:43.880320Z",
     "iopub.status.idle": "2024-05-02T10:45:44.203797Z",
     "shell.execute_reply": "2024-05-02T10:45:44.202619Z"
    },
    "papermill": {
     "duration": 0.333279,
     "end_time": "2024-05-02T10:45:44.206194",
     "exception": false,
     "start_time": "2024-05-02T10:45:43.872915",
     "status": "completed"
    },
    "tags": []
   },
   "outputs": [
    {
     "data": {
      "text/html": [
       "<div>\n",
       "<style scoped>\n",
       "    .dataframe tbody tr th:only-of-type {\n",
       "        vertical-align: middle;\n",
       "    }\n",
       "\n",
       "    .dataframe tbody tr th {\n",
       "        vertical-align: top;\n",
       "    }\n",
       "\n",
       "    .dataframe thead th {\n",
       "        text-align: right;\n",
       "    }\n",
       "</style>\n",
       "<table border=\"1\" class=\"dataframe\">\n",
       "  <thead>\n",
       "    <tr style=\"text-align: right;\">\n",
       "      <th></th>\n",
       "      <th>id</th>\n",
       "      <th>name</th>\n",
       "      <th>address</th>\n",
       "      <th>zip</th>\n",
       "      <th>factype</th>\n",
       "      <th>facname</th>\n",
       "      <th>capacity</th>\n",
       "      <th>capname</th>\n",
       "      <th>bcode</th>\n",
       "      <th>xcoord</th>\n",
       "      <th>ycoord</th>\n",
       "      <th>latitude</th>\n",
       "      <th>longitude</th>\n",
       "      <th>geometry</th>\n",
       "    </tr>\n",
       "  </thead>\n",
       "  <tbody>\n",
       "    <tr>\n",
       "      <th>0</th>\n",
       "      <td>317000001H1178</td>\n",
       "      <td>BRONX-LEBANON HOSPITAL CENTER - CONCOURSE DIVI...</td>\n",
       "      <td>1650 Grand Concourse</td>\n",
       "      <td>10457</td>\n",
       "      <td>3102</td>\n",
       "      <td>Hospital</td>\n",
       "      <td>415</td>\n",
       "      <td>Beds</td>\n",
       "      <td>36005</td>\n",
       "      <td>1008872.0</td>\n",
       "      <td>246596.0</td>\n",
       "      <td>40.843490</td>\n",
       "      <td>-73.911010</td>\n",
       "      <td>POINT (1008872.000 246596.000)</td>\n",
       "    </tr>\n",
       "    <tr>\n",
       "      <th>1</th>\n",
       "      <td>317000001H1164</td>\n",
       "      <td>BRONX-LEBANON HOSPITAL CENTER - FULTON DIVISION</td>\n",
       "      <td>1276 Fulton Ave</td>\n",
       "      <td>10456</td>\n",
       "      <td>3102</td>\n",
       "      <td>Hospital</td>\n",
       "      <td>164</td>\n",
       "      <td>Beds</td>\n",
       "      <td>36005</td>\n",
       "      <td>1011044.0</td>\n",
       "      <td>242204.0</td>\n",
       "      <td>40.831429</td>\n",
       "      <td>-73.903178</td>\n",
       "      <td>POINT (1011044.000 242204.000)</td>\n",
       "    </tr>\n",
       "    <tr>\n",
       "      <th>2</th>\n",
       "      <td>317000011H1175</td>\n",
       "      <td>CALVARY HOSPITAL INC</td>\n",
       "      <td>1740-70 Eastchester Rd</td>\n",
       "      <td>10461</td>\n",
       "      <td>3102</td>\n",
       "      <td>Hospital</td>\n",
       "      <td>225</td>\n",
       "      <td>Beds</td>\n",
       "      <td>36005</td>\n",
       "      <td>1027505.0</td>\n",
       "      <td>248287.0</td>\n",
       "      <td>40.848060</td>\n",
       "      <td>-73.843656</td>\n",
       "      <td>POINT (1027505.000 248287.000)</td>\n",
       "    </tr>\n",
       "    <tr>\n",
       "      <th>3</th>\n",
       "      <td>317000002H1165</td>\n",
       "      <td>JACOBI MEDICAL CENTER</td>\n",
       "      <td>1400 Pelham Pkwy</td>\n",
       "      <td>10461</td>\n",
       "      <td>3102</td>\n",
       "      <td>Hospital</td>\n",
       "      <td>457</td>\n",
       "      <td>Beds</td>\n",
       "      <td>36005</td>\n",
       "      <td>1027042.0</td>\n",
       "      <td>251065.0</td>\n",
       "      <td>40.855687</td>\n",
       "      <td>-73.845311</td>\n",
       "      <td>POINT (1027042.000 251065.000)</td>\n",
       "    </tr>\n",
       "    <tr>\n",
       "      <th>4</th>\n",
       "      <td>317000008H1172</td>\n",
       "      <td>LINCOLN MEDICAL &amp; MENTAL HEALTH CENTER</td>\n",
       "      <td>234 E 149 St</td>\n",
       "      <td>10451</td>\n",
       "      <td>3102</td>\n",
       "      <td>Hospital</td>\n",
       "      <td>362</td>\n",
       "      <td>Beds</td>\n",
       "      <td>36005</td>\n",
       "      <td>1005154.0</td>\n",
       "      <td>236853.0</td>\n",
       "      <td>40.816758</td>\n",
       "      <td>-73.924478</td>\n",
       "      <td>POINT (1005154.000 236853.000)</td>\n",
       "    </tr>\n",
       "  </tbody>\n",
       "</table>\n",
       "</div>"
      ],
      "text/plain": [
       "               id                                               name  \\\n",
       "0  317000001H1178  BRONX-LEBANON HOSPITAL CENTER - CONCOURSE DIVI...   \n",
       "1  317000001H1164    BRONX-LEBANON HOSPITAL CENTER - FULTON DIVISION   \n",
       "2  317000011H1175                               CALVARY HOSPITAL INC   \n",
       "3  317000002H1165                              JACOBI MEDICAL CENTER   \n",
       "4  317000008H1172             LINCOLN MEDICAL & MENTAL HEALTH CENTER   \n",
       "\n",
       "                  address    zip factype   facname capacity capname  bcode  \\\n",
       "0    1650 Grand Concourse  10457    3102  Hospital      415    Beds  36005   \n",
       "1         1276 Fulton Ave  10456    3102  Hospital      164    Beds  36005   \n",
       "2  1740-70 Eastchester Rd  10461    3102  Hospital      225    Beds  36005   \n",
       "3        1400 Pelham Pkwy  10461    3102  Hospital      457    Beds  36005   \n",
       "4            234 E 149 St  10451    3102  Hospital      362    Beds  36005   \n",
       "\n",
       "      xcoord    ycoord   latitude  longitude                        geometry  \n",
       "0  1008872.0  246596.0  40.843490 -73.911010  POINT (1008872.000 246596.000)  \n",
       "1  1011044.0  242204.0  40.831429 -73.903178  POINT (1011044.000 242204.000)  \n",
       "2  1027505.0  248287.0  40.848060 -73.843656  POINT (1027505.000 248287.000)  \n",
       "3  1027042.0  251065.0  40.855687 -73.845311  POINT (1027042.000 251065.000)  \n",
       "4  1005154.0  236853.0  40.816758 -73.924478  POINT (1005154.000 236853.000)  "
      ]
     },
     "execution_count": 5,
     "metadata": {},
     "output_type": "execute_result"
    }
   ],
   "source": [
    "hospitals = gpd.read_file(\"../input/geospatial-learn-course-data/nyu_2451_34494/nyu_2451_34494/nyu_2451_34494.shp\")\n",
    "hospitals.head()"
   ]
  },
  {
   "cell_type": "code",
   "execution_count": 6,
   "id": "1a05ef9d",
   "metadata": {
    "execution": {
     "iopub.execute_input": "2024-05-02T10:45:44.223074Z",
     "iopub.status.busy": "2024-05-02T10:45:44.222397Z",
     "iopub.status.idle": "2024-05-02T10:45:44.327574Z",
     "shell.execute_reply": "2024-05-02T10:45:44.326453Z"
    },
    "papermill": {
     "duration": 0.115214,
     "end_time": "2024-05-02T10:45:44.330112",
     "exception": false,
     "start_time": "2024-05-02T10:45:44.214898",
     "status": "completed"
    },
    "tags": []
   },
   "outputs": [
    {
     "data": {
      "text/html": [
       "\n",
       "        <iframe\n",
       "            width=\"100%\"\n",
       "            height=\"500px\"\n",
       "            src=\"q_2.html\"\n",
       "            frameborder=\"0\"\n",
       "            allowfullscreen\n",
       "            \n",
       "        ></iframe>\n",
       "        "
      ],
      "text/plain": [
       "<IPython.lib.display.IFrame at 0x7c34cf23a7d0>"
      ]
     },
     "execution_count": 6,
     "metadata": {},
     "output_type": "execute_result"
    }
   ],
   "source": [
    "m_2 = folium.Map(location=[40.7, -74], zoom_start=11) \n",
    "\n",
    "for idx, row in hospitals.iterrows():\n",
    "    Marker([row['latitude'], row['longitude']], popup=row['name']).add_to(m_2)\n",
    "        \n",
    "# Show the map\n",
    "embed_map(m_2, \"q_2.html\")"
   ]
  },
  {
   "cell_type": "markdown",
   "id": "86f1be5a",
   "metadata": {
    "papermill": {
     "duration": 0.005894,
     "end_time": "2024-05-02T10:45:44.342144",
     "exception": false,
     "start_time": "2024-05-02T10:45:44.336250",
     "status": "completed"
    },
    "tags": []
   },
   "source": [
    "# Collision where the closest hospital is more than 10 kilometers away"
   ]
  },
  {
   "cell_type": "code",
   "execution_count": 7,
   "id": "cb69d8dd",
   "metadata": {
    "execution": {
     "iopub.execute_input": "2024-05-02T10:45:44.357812Z",
     "iopub.status.busy": "2024-05-02T10:45:44.357363Z",
     "iopub.status.idle": "2024-05-02T10:46:04.079602Z",
     "shell.execute_reply": "2024-05-02T10:46:04.078380Z"
    },
    "papermill": {
     "duration": 19.733789,
     "end_time": "2024-05-02T10:46:04.082378",
     "exception": false,
     "start_time": "2024-05-02T10:45:44.348589",
     "status": "completed"
    },
    "tags": []
   },
   "outputs": [],
   "source": [
    "ten_km_buffer = hospitals.geometry.buffer(10 * 1000)\n",
    "my_union = ten_km_buffer.geometry.unary_union\n",
    "outside_range = collisions.loc[~collisions[\"geometry\"].apply(lambda x: my_union.contains(x))]"
   ]
  },
  {
   "cell_type": "markdown",
   "id": "177272f9",
   "metadata": {
    "papermill": {
     "duration": 0.00599,
     "end_time": "2024-05-02T10:46:04.095216",
     "exception": false,
     "start_time": "2024-05-02T10:46:04.089226",
     "status": "completed"
    },
    "tags": []
   },
   "source": [
    "**Now we'll calculate the percentage of collisions that occurred more than 10kms away from the closest hospital**"
   ]
  },
  {
   "cell_type": "code",
   "execution_count": 8,
   "id": "be736296",
   "metadata": {
    "execution": {
     "iopub.execute_input": "2024-05-02T10:46:04.109969Z",
     "iopub.status.busy": "2024-05-02T10:46:04.109487Z",
     "iopub.status.idle": "2024-05-02T10:46:04.116535Z",
     "shell.execute_reply": "2024-05-02T10:46:04.115121Z"
    },
    "papermill": {
     "duration": 0.017634,
     "end_time": "2024-05-02T10:46:04.119080",
     "exception": false,
     "start_time": "2024-05-02T10:46:04.101446",
     "status": "completed"
    },
    "tags": []
   },
   "outputs": [
    {
     "name": "stdout",
     "output_type": "stream",
     "text": [
      "Percentage of collisions more than 10 km away from the closest hospital: 15.12%\n"
     ]
    }
   ],
   "source": [
    "percentage = round(100*len(outside_range)/len(collisions), 2)\n",
    "print(\"Percentage of collisions more than 10 km away from the closest hospital: {}%\".format(percentage))"
   ]
  },
  {
   "cell_type": "markdown",
   "id": "0884c6d1",
   "metadata": {
    "papermill": {
     "duration": 0.00617,
     "end_time": "2024-05-02T10:46:04.131654",
     "exception": false,
     "start_time": "2024-05-02T10:46:04.125484",
     "status": "completed"
    },
    "tags": []
   },
   "source": [
    "# Find the closest hospital for a collision location"
   ]
  },
  {
   "cell_type": "code",
   "execution_count": 9,
   "id": "d2ca3b62",
   "metadata": {
    "execution": {
     "iopub.execute_input": "2024-05-02T10:46:04.146400Z",
     "iopub.status.busy": "2024-05-02T10:46:04.145994Z",
     "iopub.status.idle": "2024-05-02T10:46:04.162737Z",
     "shell.execute_reply": "2024-05-02T10:46:04.161622Z"
    },
    "papermill": {
     "duration": 0.027141,
     "end_time": "2024-05-02T10:46:04.165187",
     "exception": false,
     "start_time": "2024-05-02T10:46:04.138046",
     "status": "completed"
    },
    "tags": []
   },
   "outputs": [
    {
     "name": "stdout",
     "output_type": "stream",
     "text": [
      "CALVARY HOSPITAL INC\n"
     ]
    }
   ],
   "source": [
    "def best_hospital(collision_location):\n",
    "    my_dict = {}\n",
    "    for idx, row in hospitals.iterrows():\n",
    "        my_dict[row['name']] = collision_location.distance(row.geometry)\n",
    "    name = min(my_dict, key=my_dict.get)\n",
    "    return name\n",
    "\n",
    "print(best_hospital(outside_range.geometry.iloc[0]))"
   ]
  },
  {
   "cell_type": "markdown",
   "id": "9e285d09",
   "metadata": {
    "papermill": {
     "duration": 0.006639,
     "end_time": "2024-05-02T10:46:04.178426",
     "exception": false,
     "start_time": "2024-05-02T10:46:04.171787",
     "status": "completed"
    },
    "tags": []
   },
   "source": [
    " # Find hospital with the highest demand"
   ]
  },
  {
   "cell_type": "code",
   "execution_count": 10,
   "id": "13b9b4e6",
   "metadata": {
    "execution": {
     "iopub.execute_input": "2024-05-02T10:46:04.193382Z",
     "iopub.status.busy": "2024-05-02T10:46:04.192926Z",
     "iopub.status.idle": "2024-05-02T10:49:25.241418Z",
     "shell.execute_reply": "2024-05-02T10:49:25.240170Z"
    },
    "papermill": {
     "duration": 201.064793,
     "end_time": "2024-05-02T10:49:25.249703",
     "exception": false,
     "start_time": "2024-05-02T10:46:04.184910",
     "status": "completed"
    },
    "tags": []
   },
   "outputs": [
    {
     "data": {
      "text/plain": [
       "'JAMAICA HOSPITAL MEDICAL CENTER'"
      ]
     },
     "execution_count": 10,
     "metadata": {},
     "output_type": "execute_result"
    }
   ],
   "source": [
    "highest_demand = outside_range.geometry.apply(best_hospital).value_counts().idxmax()\n",
    "highest_demand"
   ]
  },
  {
   "cell_type": "markdown",
   "id": "d3141dce",
   "metadata": {
    "papermill": {
     "duration": 0.006016,
     "end_time": "2024-05-02T10:49:25.261868",
     "exception": false,
     "start_time": "2024-05-02T10:49:25.255852",
     "status": "completed"
    },
    "tags": []
   },
   "source": [
    "# Analysis to define the best place to build a new hospital"
   ]
  },
  {
   "cell_type": "markdown",
   "id": "853c6106",
   "metadata": {
    "papermill": {
     "duration": 0.005893,
     "end_time": "2024-05-02T10:49:25.273975",
     "exception": false,
     "start_time": "2024-05-02T10:49:25.268082",
     "status": "completed"
    },
    "tags": []
   },
   "source": [
    "**Now we'll visualize the hospital location, and the coliisions that occurred more than 10 kms away from the closest hospital**"
   ]
  },
  {
   "cell_type": "code",
   "execution_count": 11,
   "id": "6b771598",
   "metadata": {
    "execution": {
     "iopub.execute_input": "2024-05-02T10:49:25.288990Z",
     "iopub.status.busy": "2024-05-02T10:49:25.288584Z",
     "iopub.status.idle": "2024-05-02T10:49:26.419193Z",
     "shell.execute_reply": "2024-05-02T10:49:26.417984Z"
    },
    "papermill": {
     "duration": 1.141276,
     "end_time": "2024-05-02T10:49:26.421912",
     "exception": false,
     "start_time": "2024-05-02T10:49:25.280636",
     "status": "completed"
    },
    "tags": []
   },
   "outputs": [
    {
     "data": {
      "text/html": [
       "\n",
       "        <iframe\n",
       "            width=\"100%\"\n",
       "            height=\"500px\"\n",
       "            src=\"m_6.html\"\n",
       "            frameborder=\"0\"\n",
       "            allowfullscreen\n",
       "            \n",
       "        ></iframe>\n",
       "        "
      ],
      "text/plain": [
       "<IPython.lib.display.IFrame at 0x7c34cf1e7b80>"
      ]
     },
     "execution_count": 11,
     "metadata": {},
     "output_type": "execute_result"
    }
   ],
   "source": [
    "m_6 = folium.Map(location=[40.7, -74], zoom_start=11) \n",
    "\n",
    "coverage = gpd.GeoDataFrame(geometry=hospitals.geometry).buffer(10000)\n",
    "folium.GeoJson(coverage.geometry.to_crs(epsg=4326)).add_to(m_6)\n",
    "HeatMap(data=outside_range[['LATITUDE', 'LONGITUDE']], radius=9).add_to(m_6)\n",
    "folium.LatLngPopup().add_to(m_6)\n",
    "\n",
    "embed_map(m_6, 'm_6.html')"
   ]
  },
  {
   "cell_type": "markdown",
   "id": "eea9c9be",
   "metadata": {
    "papermill": {
     "duration": 0.006668,
     "end_time": "2024-05-02T10:49:26.435849",
     "exception": false,
     "start_time": "2024-05-02T10:49:26.429181",
     "status": "completed"
    },
    "tags": []
   },
   "source": [
    "**Analyzind the map, possible good locations for new hospitals are**"
   ]
  },
  {
   "cell_type": "code",
   "execution_count": 12,
   "id": "5412c07d",
   "metadata": {
    "execution": {
     "iopub.execute_input": "2024-05-02T10:49:26.450626Z",
     "iopub.status.busy": "2024-05-02T10:49:26.450196Z",
     "iopub.status.idle": "2024-05-02T10:49:27.397098Z",
     "shell.execute_reply": "2024-05-02T10:49:27.396021Z"
    },
    "papermill": {
     "duration": 0.957056,
     "end_time": "2024-05-02T10:49:27.399422",
     "exception": false,
     "start_time": "2024-05-02T10:49:26.442366",
     "status": "completed"
    },
    "tags": []
   },
   "outputs": [
    {
     "name": "stderr",
     "output_type": "stream",
     "text": [
      "/opt/conda/lib/python3.10/site-packages/pyproj/crs/crs.py:141: FutureWarning: '+init=<authority>:<code>' syntax is deprecated. '<authority>:<code>' is the preferred initialization method. When making the change, be mindful of axis order changes: https://pyproj4.github.io/pyproj/stable/gotchas.html#axis-order-changes-in-proj-6\n",
      "  in_crs_string = _prepare_from_proj_string(in_crs_string)\n"
     ]
    },
    {
     "name": "stdout",
     "output_type": "stream",
     "text": [
      "(NEW) Percentage of collisions more than 10 km away from the closest hospital: 9.7%\n"
     ]
    },
    {
     "data": {
      "text/html": [
       "\n",
       "        <iframe\n",
       "            width=\"100%\"\n",
       "            height=\"500px\"\n",
       "            src=\"q_6.html\"\n",
       "            frameborder=\"0\"\n",
       "            allowfullscreen\n",
       "            \n",
       "        ></iframe>\n",
       "        "
      ],
      "text/plain": [
       "<IPython.lib.display.IFrame at 0x7c34cf1e7fd0>"
      ]
     },
     "metadata": {},
     "output_type": "display_data"
    }
   ],
   "source": [
    "# hospital 1\n",
    "lat_1 = 40.6775\n",
    "long_1 = -73.8645\n",
    "\n",
    "# hospital 2\n",
    "lat_2 = 40.6598\n",
    "long_2 = -73.7540\n",
    "\n",
    "\n",
    "# Visualize the map including the new hospitals\n",
    "\n",
    "new_df = pd.DataFrame(\n",
    "    {'Latitude': [lat_1, lat_2],\n",
    "     'Longitude': [long_1, long_2]})\n",
    "new_gdf = gpd.GeoDataFrame(new_df, geometry=gpd.points_from_xy(new_df.Longitude, new_df.Latitude))\n",
    "new_gdf.crs = {'init' :'epsg:4326'}\n",
    "new_gdf = new_gdf.to_crs(epsg=2263)\n",
    "# get new percentage\n",
    "new_coverage = gpd.GeoDataFrame(geometry=new_gdf.geometry).buffer(10000)\n",
    "new_my_union = new_coverage.geometry.unary_union\n",
    "new_outside_range = outside_range.loc[~outside_range[\"geometry\"].apply(lambda x: new_my_union.contains(x))]\n",
    "new_percentage = round(100*len(new_outside_range)/len(collisions), 2)\n",
    "print(\"(NEW) Percentage of collisions more than 10 km away from the closest hospital: {}%\".format(new_percentage))\n",
    "\n",
    "# make the map\n",
    "m = folium.Map(location=[40.7, -74], zoom_start=11) \n",
    "folium.GeoJson(coverage.geometry.to_crs(epsg=4326)).add_to(m)\n",
    "folium.GeoJson(new_coverage.geometry.to_crs(epsg=4326)).add_to(m)\n",
    "for idx, row in new_gdf.iterrows():\n",
    "    Marker([row['Latitude'], row['Longitude']]).add_to(m)\n",
    "HeatMap(data=new_outside_range[['LATITUDE', 'LONGITUDE']], radius=9).add_to(m)\n",
    "folium.LatLngPopup().add_to(m)\n",
    "display(embed_map(m, 'q_6.html'))\n"
   ]
  },
  {
   "cell_type": "code",
   "execution_count": null,
   "id": "c582a41d",
   "metadata": {
    "papermill": {
     "duration": 0.006646,
     "end_time": "2024-05-02T10:49:27.412959",
     "exception": false,
     "start_time": "2024-05-02T10:49:27.406313",
     "status": "completed"
    },
    "tags": []
   },
   "outputs": [],
   "source": []
  }
 ],
 "metadata": {
  "kaggle": {
   "accelerator": "none",
   "dataSources": [
    {
     "datasetId": 348259,
     "sourceId": 695175,
     "sourceType": "datasetVersion"
    }
   ],
   "dockerImageVersionId": 30698,
   "isGpuEnabled": false,
   "isInternetEnabled": true,
   "language": "python",
   "sourceType": "notebook"
  },
  "kernelspec": {
   "display_name": "Python 3",
   "language": "python",
   "name": "python3"
  },
  "language_info": {
   "codemirror_mode": {
    "name": "ipython",
    "version": 3
   },
   "file_extension": ".py",
   "mimetype": "text/x-python",
   "name": "python",
   "nbconvert_exporter": "python",
   "pygments_lexer": "ipython3",
   "version": "3.10.13"
  },
  "papermill": {
   "default_parameters": {},
   "duration": 388.08479,
   "end_time": "2024-05-02T10:49:30.042555",
   "environment_variables": {},
   "exception": null,
   "input_path": "__notebook__.ipynb",
   "output_path": "__notebook__.ipynb",
   "parameters": {},
   "start_time": "2024-05-02T10:43:01.957765",
   "version": "2.5.0"
  }
 },
 "nbformat": 4,
 "nbformat_minor": 5
}
